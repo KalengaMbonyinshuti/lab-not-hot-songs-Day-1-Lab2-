{
 "cells": [
  {
   "cell_type": "markdown",
   "id": "9f33d091",
   "metadata": {},
   "source": [
    "# Lab | Not hot songs"
   ]
  },
  {
   "cell_type": "markdown",
   "id": "cf1dbf73",
   "metadata": {},
   "source": [
    "Importing libraries."
   ]
  },
  {
   "cell_type": "code",
   "execution_count": 1,
   "id": "04891626",
   "metadata": {},
   "outputs": [],
   "source": [
    "import pandas as pd\n",
    "import numpy as np\n",
    "import re\n",
    "import random"
   ]
  },
  {
   "cell_type": "markdown",
   "id": "53419096",
   "metadata": {},
   "source": [
    "Generate the random list of indexes to not consider when importing the file."
   ]
  },
  {
   "cell_type": "code",
   "execution_count": 6,
   "id": "6211727b",
   "metadata": {},
   "outputs": [],
   "source": [
    "np.random.seed(42)\n",
    "skip = list(np.random.permutation(26173500)[:26170515])\n",
    "skip.sort()"
   ]
  },
  {
   "cell_type": "markdown",
   "id": "341c618f",
   "metadata": {},
   "source": [
    "Importing the file."
   ]
  },
  {
   "cell_type": "code",
   "execution_count": 7,
   "id": "fa9046db",
   "metadata": {},
   "outputs": [],
   "source": [
    "not_hot = pd.read_csv('charts.csv', skiprows=skip[1:]).iloc[:,:4]"
   ]
  },
  {
   "cell_type": "code",
   "execution_count": 8,
   "id": "5a484fc9",
   "metadata": {},
   "outputs": [
    {
     "data": {
      "text/html": [
       "<div>\n",
       "<style scoped>\n",
       "    .dataframe tbody tr th:only-of-type {\n",
       "        vertical-align: middle;\n",
       "    }\n",
       "\n",
       "    .dataframe tbody tr th {\n",
       "        vertical-align: top;\n",
       "    }\n",
       "\n",
       "    .dataframe thead th {\n",
       "        text-align: right;\n",
       "    }\n",
       "</style>\n",
       "<table border=\"1\" class=\"dataframe\">\n",
       "  <thead>\n",
       "    <tr style=\"text-align: right;\">\n",
       "      <th></th>\n",
       "      <th>title</th>\n",
       "      <th>artist</th>\n",
       "    </tr>\n",
       "  </thead>\n",
       "  <tbody>\n",
       "    <tr>\n",
       "      <th>0</th>\n",
       "      <td>Money Longer</td>\n",
       "      <td>Lil Uzi Vert</td>\n",
       "    </tr>\n",
       "    <tr>\n",
       "      <th>1</th>\n",
       "      <td>DUELE EL CORAZON (feat. Wisin)</td>\n",
       "      <td>Enrique Iglesias</td>\n",
       "    </tr>\n",
       "    <tr>\n",
       "      <th>2</th>\n",
       "      <td>My Number</td>\n",
       "      <td>Foals</td>\n",
       "    </tr>\n",
       "    <tr>\n",
       "      <th>3</th>\n",
       "      <td>Lot to Learn</td>\n",
       "      <td>Luke Christopher</td>\n",
       "    </tr>\n",
       "    <tr>\n",
       "      <th>4</th>\n",
       "      <td>Tlen</td>\n",
       "      <td>Taco Hemingway</td>\n",
       "    </tr>\n",
       "    <tr>\n",
       "      <th>...</th>\n",
       "      <td>...</td>\n",
       "      <td>...</td>\n",
       "    </tr>\n",
       "    <tr>\n",
       "      <th>2995</th>\n",
       "      <td>BYE</td>\n",
       "      <td>Jaden</td>\n",
       "    </tr>\n",
       "    <tr>\n",
       "      <th>2996</th>\n",
       "      <td>Pillars</td>\n",
       "      <td>My Anh</td>\n",
       "    </tr>\n",
       "    <tr>\n",
       "      <th>2997</th>\n",
       "      <td>Gái Độc Thân</td>\n",
       "      <td>Tlinh</td>\n",
       "    </tr>\n",
       "    <tr>\n",
       "      <th>2998</th>\n",
       "      <td>Renegade (feat. Taylor Swift)</td>\n",
       "      <td>Big Red Machine</td>\n",
       "    </tr>\n",
       "    <tr>\n",
       "      <th>2999</th>\n",
       "      <td>Letter to Jarad</td>\n",
       "      <td>LRN Slime, Shiloh Dynasty</td>\n",
       "    </tr>\n",
       "  </tbody>\n",
       "</table>\n",
       "<p>3000 rows × 2 columns</p>\n",
       "</div>"
      ],
      "text/plain": [
       "                               title                     artist\n",
       "0                       Money Longer               Lil Uzi Vert\n",
       "1     DUELE EL CORAZON (feat. Wisin)           Enrique Iglesias\n",
       "2                          My Number                      Foals\n",
       "3                       Lot to Learn           Luke Christopher\n",
       "4                               Tlen             Taco Hemingway\n",
       "...                              ...                        ...\n",
       "2995                             BYE                      Jaden\n",
       "2996                         Pillars                     My Anh\n",
       "2997                    Gái Độc Thân                      Tlinh\n",
       "2998   Renegade (feat. Taylor Swift)            Big Red Machine\n",
       "2999                 Letter to Jarad  LRN Slime, Shiloh Dynasty\n",
       "\n",
       "[3000 rows x 2 columns]"
      ]
     },
     "execution_count": 8,
     "metadata": {},
     "output_type": "execute_result"
    }
   ],
   "source": [
    "not_hot = not_hot.drop(['rank','date'], axis=1)\n",
    "not_hot"
   ]
  },
  {
   "cell_type": "markdown",
   "id": "2d00aca9",
   "metadata": {},
   "source": [
    "Import hot 100 songs dataframe."
   ]
  },
  {
   "cell_type": "code",
   "execution_count": 4,
   "id": "aa0b11e2",
   "metadata": {},
   "outputs": [],
   "source": [
    "hot100 = pd.read_csv('../../Morning/lab-web-scraping-single-page/hot100.csv').iloc[:,1:]"
   ]
  },
  {
   "cell_type": "code",
   "execution_count": 5,
   "id": "f27e2a9b",
   "metadata": {},
   "outputs": [
    {
     "data": {
      "text/html": [
       "<div>\n",
       "<style scoped>\n",
       "    .dataframe tbody tr th:only-of-type {\n",
       "        vertical-align: middle;\n",
       "    }\n",
       "\n",
       "    .dataframe tbody tr th {\n",
       "        vertical-align: top;\n",
       "    }\n",
       "\n",
       "    .dataframe thead th {\n",
       "        text-align: right;\n",
       "    }\n",
       "</style>\n",
       "<table border=\"1\" class=\"dataframe\">\n",
       "  <thead>\n",
       "    <tr style=\"text-align: right;\">\n",
       "      <th></th>\n",
       "      <th>title</th>\n",
       "      <th>artist</th>\n",
       "    </tr>\n",
       "  </thead>\n",
       "  <tbody>\n",
       "    <tr>\n",
       "      <th>0</th>\n",
       "      <td>Flowers</td>\n",
       "      <td>Miley Cyrus</td>\n",
       "    </tr>\n",
       "    <tr>\n",
       "      <th>1</th>\n",
       "      <td>Kill Bill</td>\n",
       "      <td>SZA</td>\n",
       "    </tr>\n",
       "    <tr>\n",
       "      <th>2</th>\n",
       "      <td>Creepin'</td>\n",
       "      <td>Metro Boomin, The Weeknd &amp; 21 Savage</td>\n",
       "    </tr>\n",
       "    <tr>\n",
       "      <th>3</th>\n",
       "      <td>Anti-Hero</td>\n",
       "      <td>Taylor Swift</td>\n",
       "    </tr>\n",
       "    <tr>\n",
       "      <th>4</th>\n",
       "      <td>Unholy</td>\n",
       "      <td>Sam Smith &amp; Kim Petras</td>\n",
       "    </tr>\n",
       "  </tbody>\n",
       "</table>\n",
       "</div>"
      ],
      "text/plain": [
       "       title                                artist\n",
       "0    Flowers                           Miley Cyrus\n",
       "1  Kill Bill                                   SZA\n",
       "2   Creepin'  Metro Boomin, The Weeknd & 21 Savage\n",
       "3  Anti-Hero                          Taylor Swift\n",
       "4     Unholy                Sam Smith & Kim Petras"
      ]
     },
     "execution_count": 5,
     "metadata": {},
     "output_type": "execute_result"
    }
   ],
   "source": [
    "hot100.head()"
   ]
  },
  {
   "cell_type": "markdown",
   "id": "883a3985",
   "metadata": {},
   "source": [
    "Check if there is no common songs between not hot and hot100."
   ]
  },
  {
   "cell_type": "code",
   "execution_count": 9,
   "id": "91b9ea82",
   "metadata": {},
   "outputs": [],
   "source": [
    "index_to_remove = []\n",
    "n=0\n",
    "for s,a in zip(not_hot['title'], not_hot['artist']):\n",
    "    if s in hot100['title'] and a in hot100['artist']: \n",
    "        index_to_remove.append(n)\n",
    "    n += 1"
   ]
  },
  {
   "cell_type": "markdown",
   "id": "3634a13b",
   "metadata": {},
   "source": [
    "Storing to a file."
   ]
  },
  {
   "cell_type": "code",
   "execution_count": 10,
   "id": "079e5bdf",
   "metadata": {},
   "outputs": [],
   "source": [
    "not_hot.to_csv('not_hot.csv')"
   ]
  },
  {
   "cell_type": "code",
   "execution_count": null,
   "id": "0eeed0e0",
   "metadata": {},
   "outputs": [],
   "source": []
  }
 ],
 "metadata": {
  "kernelspec": {
   "display_name": "Python 3 (ipykernel)",
   "language": "python",
   "name": "python3"
  },
  "language_info": {
   "codemirror_mode": {
    "name": "ipython",
    "version": 3
   },
   "file_extension": ".py",
   "mimetype": "text/x-python",
   "name": "python",
   "nbconvert_exporter": "python",
   "pygments_lexer": "ipython3",
   "version": "3.9.13"
  }
 },
 "nbformat": 4,
 "nbformat_minor": 5
}
